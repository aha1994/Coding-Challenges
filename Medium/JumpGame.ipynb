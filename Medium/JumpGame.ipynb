{
 "cells": [
  {
   "cell_type": "markdown",
   "id": "39308ee6-634e-41f3-889b-537521c672de",
   "metadata": {},
   "source": [
    "You are given an integer array nums. You are initially positioned at the array's first index, and each element in the array represents your maximum jump length at that position.\n",
    "\n",
    "Return true if you can reach the last index, or false otherwise."
   ]
  },
  {
   "cell_type": "code",
   "execution_count": 10,
   "id": "9fbf2e61-e111-45de-bd21-25c1ee60eeb9",
   "metadata": {},
   "outputs": [],
   "source": [
    "class Solution:\n",
    "    def canJump(self, nums) -> bool:\n",
    "        reach = len(nums) - 1\n",
    "\n",
    "        for i in range(len(nums) -1, -1, -1):\n",
    "            if (i + nums[i]) >= reach:\n",
    "                reach = i\n",
    "        if reach == 0:\n",
    "            return True\n",
    "        else:\n",
    "            return False"
   ]
  },
  {
   "cell_type": "code",
   "execution_count": 11,
   "id": "92516f07-e476-42e2-b051-b3d0067006ef",
   "metadata": {},
   "outputs": [
    {
     "data": {
      "text/plain": [
       "True"
      ]
     },
     "execution_count": 11,
     "metadata": {},
     "output_type": "execute_result"
    }
   ],
   "source": [
    "# test case 1\n",
    "Solution().canJump([2,3,1,1,4])"
   ]
  },
  {
   "cell_type": "code",
   "execution_count": 12,
   "id": "da023380-32d0-4dc5-8170-99e85169078a",
   "metadata": {},
   "outputs": [
    {
     "data": {
      "text/plain": [
       "False"
      ]
     },
     "execution_count": 12,
     "metadata": {},
     "output_type": "execute_result"
    }
   ],
   "source": [
    "# test case 2\n",
    "Solution().canJump([3,2,1,0,4])"
   ]
  },
  {
   "cell_type": "code",
   "execution_count": 14,
   "id": "6666201e-f4c1-41c2-a9f4-68d1f89041a4",
   "metadata": {},
   "outputs": [
    {
     "data": {
      "text/plain": [
       "True"
      ]
     },
     "execution_count": 14,
     "metadata": {},
     "output_type": "execute_result"
    }
   ],
   "source": [
    "# test case 3\n",
    "Solution().canJump([1,1,1,2,3,0,0,1,1,4,0,9])"
   ]
  },
  {
   "cell_type": "markdown",
   "id": "bba7cca0-6d30-41c6-bcad-84f242aba003",
   "metadata": {},
   "source": [
    "Key Take Aways - Definitely got stuck trying to brute force a way checking from start to finish. Took a break and when I came back tried a back to front approach. This worked much better. Also played around with the idea of checking for all values to be greater than 0 at the start but this wasn't actually saving time."
   ]
  },
  {
   "cell_type": "code",
   "execution_count": null,
   "id": "61626f48-0155-48dc-ad2d-5f6af36767cb",
   "metadata": {},
   "outputs": [],
   "source": []
  }
 ],
 "metadata": {
  "kernelspec": {
   "display_name": "Python 3 (ipykernel)",
   "language": "python",
   "name": "python3"
  },
  "language_info": {
   "codemirror_mode": {
    "name": "ipython",
    "version": 3
   },
   "file_extension": ".py",
   "mimetype": "text/x-python",
   "name": "python",
   "nbconvert_exporter": "python",
   "pygments_lexer": "ipython3",
   "version": "3.8.8"
  }
 },
 "nbformat": 4,
 "nbformat_minor": 5
}
