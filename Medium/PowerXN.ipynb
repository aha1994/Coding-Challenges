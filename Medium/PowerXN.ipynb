{
 "cells": [
  {
   "cell_type": "markdown",
   "id": "bbaa19ba-5072-47a1-a39b-567c26550abd",
   "metadata": {},
   "source": [
    "Implement pow(x, n), which calculates x raised to the power n (i.e., xn)."
   ]
  },
  {
   "cell_type": "code",
   "execution_count": 7,
   "id": "27040d92-0770-430e-88a0-60a8bf921448",
   "metadata": {},
   "outputs": [],
   "source": [
    "class Solution:\n",
    "    def myPow(self, x: float, n:int) -> float:\n",
    "        def helper(x, n):\n",
    "            if x == 0: return 0\n",
    "            if n == 0: return 1\n",
    "        \n",
    "            result = helper(x, n // 2)\n",
    "            result = result * result\n",
    "            return x * result if n % 2 else result\n",
    "            \n",
    "        result = helper(x, abs(n))\n",
    "        return result if n >= 0 else 1 / result"
   ]
  },
  {
   "cell_type": "code",
   "execution_count": 8,
   "id": "95e07d1c-0cb5-4265-8486-3cab47f5e6c4",
   "metadata": {},
   "outputs": [
    {
     "data": {
      "text/plain": [
       "3125"
      ]
     },
     "execution_count": 8,
     "metadata": {},
     "output_type": "execute_result"
    }
   ],
   "source": [
    "# test case 1\n",
    "Solution().myPow(5,5)"
   ]
  },
  {
   "cell_type": "code",
   "execution_count": 13,
   "id": "111a2796-8f55-4a50-a0c9-46a20e8d39db",
   "metadata": {},
   "outputs": [
    {
     "data": {
      "text/plain": [
       "1.1143170286258101e-05"
      ]
     },
     "execution_count": 13,
     "metadata": {},
     "output_type": "execute_result"
    }
   ],
   "source": [
    "# test case 2\n",
    "Solution().myPow(5.1, -7)"
   ]
  },
  {
   "cell_type": "markdown",
   "id": "4db4c639-1893-4ed5-8ca4-c8800e3e6595",
   "metadata": {},
   "source": [
    "Key Take Away - At first i just used the python implementation of power but that performed poorly and felt like cheating. Broke down and looked up a better solution and found a video guide. Was a refresher on recursive functions"
   ]
  },
  {
   "cell_type": "code",
   "execution_count": null,
   "id": "bf27fb25-c7a7-4c0e-89ba-4695ce724144",
   "metadata": {},
   "outputs": [],
   "source": []
  }
 ],
 "metadata": {
  "kernelspec": {
   "display_name": "Python 3 (ipykernel)",
   "language": "python",
   "name": "python3"
  },
  "language_info": {
   "codemirror_mode": {
    "name": "ipython",
    "version": 3
   },
   "file_extension": ".py",
   "mimetype": "text/x-python",
   "name": "python",
   "nbconvert_exporter": "python",
   "pygments_lexer": "ipython3",
   "version": "3.8.8"
  }
 },
 "nbformat": 4,
 "nbformat_minor": 5
}
