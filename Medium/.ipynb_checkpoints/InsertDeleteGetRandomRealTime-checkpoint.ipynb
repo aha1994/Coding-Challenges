{
 "cells": [
  {
   "cell_type": "markdown",
   "id": "df5aacea-ae60-4db3-b7a8-02e31c70f7b1",
   "metadata": {},
   "source": [
    "Implement the RandomizedSet class:\n",
    "\n",
    "RandomizedSet() Initializes the RandomizedSet object.\n",
    "\n",
    "bool insert(int val) Inserts an item val into the set if not present. Returns true if the item was not present, false otherwise.\n",
    "\n",
    "bool remove(int val) Removes an item val from the set if present. Returns true if the item was present, false otherwise.\n",
    "\n",
    "int getRandom() Returns a random element from the current set of elements (it's guaranteed that at least one element exists when this method is called). Each element must have the same probability of being returned.\n",
    "\n",
    "You must implement the functions of the class such that each function works in average O(1) time complexity."
   ]
  },
  {
   "cell_type": "code",
   "execution_count": 5,
   "id": "b6fe1083-f2c5-4161-8602-a3fd8bf6eedd",
   "metadata": {},
   "outputs": [],
   "source": [
    "class RandomizedSet:\n",
    "\n",
    "    def __init__(self):\n",
    "        self.num_set = {}\n",
    "        self.num_list = []\n",
    "\n",
    "    def insert(self, val: int) -> bool:\n",
    "        output = val not in self.num_set\n",
    "\n",
    "        if output:\n",
    "            self.num_set[val] = len(self.num_list)\n",
    "            self.num_list.append(val)\n",
    "\n",
    "        return output\n",
    "\n",
    "    def remove(self, val: int) -> bool:\n",
    "        output = val in self.num_set\n",
    "\n",
    "        if output:\n",
    "            ind = self.num_set[val]\n",
    "            last = self.num_list[-1]\n",
    "            self.num_list[ind] = last\n",
    "            self.num_list.pop()\n",
    "            self.num_set[last] = ind\n",
    "            del self.num_set[val]\n",
    "\n",
    "        return output\n",
    "        \n",
    "\n",
    "    def getRandom(self) -> int:\n",
    "        return random.choice(self.num_list)"
   ]
  },
  {
   "cell_type": "code",
   "execution_count": null,
   "id": "92dd1840-09fb-4a27-8871-d5fca812207c",
   "metadata": {},
   "outputs": [],
   "source": []
  },
  {
   "cell_type": "code",
   "execution_count": null,
   "id": "69f84b0f-939b-481d-8581-c93dd2ff68c2",
   "metadata": {},
   "outputs": [],
   "source": []
  },
  {
   "cell_type": "code",
   "execution_count": null,
   "id": "54bb5bc0-83da-4e18-9e44-b952a041f540",
   "metadata": {},
   "outputs": [],
   "source": []
  }
 ],
 "metadata": {
  "kernelspec": {
   "display_name": "Python 3 (ipykernel)",
   "language": "python",
   "name": "python3"
  },
  "language_info": {
   "codemirror_mode": {
    "name": "ipython",
    "version": 3
   },
   "file_extension": ".py",
   "mimetype": "text/x-python",
   "name": "python",
   "nbconvert_exporter": "python",
   "pygments_lexer": "ipython3",
   "version": "3.8.8"
  }
 },
 "nbformat": 4,
 "nbformat_minor": 5
}
