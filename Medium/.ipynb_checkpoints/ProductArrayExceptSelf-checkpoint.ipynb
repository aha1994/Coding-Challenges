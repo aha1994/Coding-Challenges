{
 "cells": [
  {
   "cell_type": "markdown",
   "id": "046a6382-b2e7-4fe6-864a-fa7e60b51067",
   "metadata": {},
   "source": [
    "Given an integer array nums, return an array answer such that answer[i] is equal to the product of all the elements of nums except nums[i].\n",
    "\n",
    "The product of any prefix or suffix of nums is guaranteed to fit in a 32-bit integer.\n",
    "\n",
    "You must write an algorithm that runs in O(n) time and without using the division operation."
   ]
  },
  {
   "cell_type": "code",
   "execution_count": 12,
   "id": "3738885e-e386-46ca-9853-207cec188f14",
   "metadata": {},
   "outputs": [],
   "source": [
    "class Solution:\n",
    "    def productExceptSelf(self, nums):\n",
    "        output = [1 for n in range(len(nums))]\n",
    "\n",
    "        prefix = 1\n",
    "        for i in range(len(nums)):\n",
    "            output[i] = prefix\n",
    "            prefix *= nums[i]\n",
    "\n",
    "        postfix = 1\n",
    "        for i in range(len(nums)-1, -1, -1):\n",
    "            output[i] *= postfix\n",
    "            postfix *= nums[i]\n",
    "\n",
    "        return output"
   ]
  },
  {
   "cell_type": "code",
   "execution_count": 14,
   "id": "b6796495-7694-4b35-9acc-13b4e3be5d65",
   "metadata": {},
   "outputs": [
    {
     "data": {
      "text/plain": [
       "[24, 12, 8, 6]"
      ]
     },
     "execution_count": 14,
     "metadata": {},
     "output_type": "execute_result"
    }
   ],
   "source": [
    "# test case 1\n",
    "Solution().productExceptSelf([1,2,3,4])"
   ]
  },
  {
   "cell_type": "code",
   "execution_count": 15,
   "id": "c17cf7b8-2a99-404b-9151-998a93894129",
   "metadata": {},
   "outputs": [
    {
     "data": {
      "text/plain": [
       "[0, 0, 9, 0, 0]"
      ]
     },
     "execution_count": 15,
     "metadata": {},
     "output_type": "execute_result"
    }
   ],
   "source": [
    "# test case 2 \n",
    "Solution().productExceptSelf([-1,1,0,-3,3])"
   ]
  },
  {
   "cell_type": "markdown",
   "id": "c0a7e6a7-9789-4513-87eb-66e8b3c16d31",
   "metadata": {},
   "source": [
    "Key Take away: Don't need to mess with making different lists and then multiplying. Can just iterate forwards and then backwards computing products as you go."
   ]
  },
  {
   "cell_type": "code",
   "execution_count": null,
   "id": "774b127d-dd77-4eda-b5ef-04297e940d08",
   "metadata": {},
   "outputs": [],
   "source": []
  }
 ],
 "metadata": {
  "kernelspec": {
   "display_name": "Python 3 (ipykernel)",
   "language": "python",
   "name": "python3"
  },
  "language_info": {
   "codemirror_mode": {
    "name": "ipython",
    "version": 3
   },
   "file_extension": ".py",
   "mimetype": "text/x-python",
   "name": "python",
   "nbconvert_exporter": "python",
   "pygments_lexer": "ipython3",
   "version": "3.8.8"
  }
 },
 "nbformat": 4,
 "nbformat_minor": 5
}
