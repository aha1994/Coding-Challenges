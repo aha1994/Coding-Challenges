{
 "cells": [
  {
   "cell_type": "markdown",
   "id": "13558a47-6147-4cb4-a12b-646681cb4850",
   "metadata": {},
   "source": [
    "Given an m x n integer matrix matrix, if an element is 0, set its entire row and column to 0's.\n",
    "\n",
    "You must do it in place."
   ]
  },
  {
   "cell_type": "code",
   "execution_count": 16,
   "id": "49e71bff-1b0f-4414-9c8f-1aa789061ef8",
   "metadata": {},
   "outputs": [],
   "source": [
    "def matrixPrint(arr):\n",
    "    for row in arr:\n",
    "        print(row)"
   ]
  },
  {
   "cell_type": "code",
   "execution_count": 26,
   "id": "58c3f9cb-5eed-403d-becb-b5397bc64f52",
   "metadata": {},
   "outputs": [],
   "source": [
    "def zeroColRow(mat):\n",
    "    zeros = []\n",
    "    for row in range(len(mat)):\n",
    "        for col in range(len(mat[0])):\n",
    "            if mat[row][col] == 0:\n",
    "                zeros.append((row,col))\n",
    "                \n",
    "    if len(zeros) > 0:\n",
    "        for r, c in zeros:\n",
    "            for row in range(len(mat)):\n",
    "                mat[row][c] = 0\n",
    "            mat[r] = [0] * len(mat[0])\n",
    "            \n",
    "    matrixPrint(mat)\n"
   ]
  },
  {
   "cell_type": "code",
   "execution_count": 29,
   "id": "b213ee6e-d9f6-4f07-871b-7ab06f40e57c",
   "metadata": {},
   "outputs": [
    {
     "name": "stdout",
     "output_type": "stream",
     "text": [
      "[1, 0, 1]\n",
      "[0, 0, 0]\n",
      "[1, 0, 1]\n"
     ]
    }
   ],
   "source": [
    "# test case 1\n",
    "zeroColRow([[1,1,1],[1,0,1],[1,1,1]])"
   ]
  },
  {
   "cell_type": "code",
   "execution_count": 30,
   "id": "39c5aa66-3747-49e1-aafd-671229ede47d",
   "metadata": {},
   "outputs": [
    {
     "name": "stdout",
     "output_type": "stream",
     "text": [
      "[0, 0, 0, 0]\n",
      "[0, 4, 5, 0]\n",
      "[0, 3, 1, 0]\n"
     ]
    }
   ],
   "source": [
    "# test case 2\n",
    "zeroColRow([[0,1,2,0],[3,4,5,2],[1,3,1,5]])"
   ]
  },
  {
   "cell_type": "markdown",
   "id": "ea12c1b5-e86d-4e42-b62e-ffd29ef64083",
   "metadata": {},
   "source": [
    "Key Take aways - Relatively fast solution compared to others, but suffered in memory usage. Probably a way to do this without allocating memory that I will look up."
   ]
  },
  {
   "cell_type": "code",
   "execution_count": null,
   "id": "f086a46f-34f3-494c-840c-cd99e111f6a2",
   "metadata": {},
   "outputs": [],
   "source": []
  }
 ],
 "metadata": {
  "kernelspec": {
   "display_name": "Python 3 (ipykernel)",
   "language": "python",
   "name": "python3"
  },
  "language_info": {
   "codemirror_mode": {
    "name": "ipython",
    "version": 3
   },
   "file_extension": ".py",
   "mimetype": "text/x-python",
   "name": "python",
   "nbconvert_exporter": "python",
   "pygments_lexer": "ipython3",
   "version": "3.8.8"
  }
 },
 "nbformat": 4,
 "nbformat_minor": 5
}
