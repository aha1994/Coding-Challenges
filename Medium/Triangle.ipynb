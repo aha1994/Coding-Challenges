{
 "cells": [
  {
   "cell_type": "markdown",
   "id": "27dc09bc-bc36-4645-93cb-5313077c9853",
   "metadata": {},
   "source": [
    "Given a triangle array, return the minimum path sum from top to bottom.\n",
    "\n",
    "For each step, you may move to an adjacent number of the row below. More formally, if you are on index i on the current row, you may move to either index i or index i + 1 on the next row."
   ]
  },
  {
   "cell_type": "code",
   "execution_count": 1,
   "id": "ab4f751f-bbfd-4843-84b2-697e4748dd06",
   "metadata": {},
   "outputs": [],
   "source": [
    "class Solution:\n",
    "    def minimumTotal(self, triangle) -> int:\n",
    "        ans = [0] * (len(triangle[-1]) + 1)\n",
    "\n",
    "        for row in triangle[::-1]:\n",
    "            for ind, val in enumerate(row):\n",
    "               ans[ind] = val + min(ans[ind], ans[ind+1])\n",
    "\n",
    "        return ans[0]"
   ]
  },
  {
   "cell_type": "code",
   "execution_count": 3,
   "id": "afd0816d-e5d9-4d21-a4a5-3f94f1ba920c",
   "metadata": {},
   "outputs": [
    {
     "data": {
      "text/plain": [
       "11"
      ]
     },
     "execution_count": 3,
     "metadata": {},
     "output_type": "execute_result"
    }
   ],
   "source": [
    "# test case 1\n",
    "Solution().minimumTotal([[2],[3,4],[6,5,7],[4,1,8,3]])"
   ]
  },
  {
   "cell_type": "code",
   "execution_count": 4,
   "id": "cb2d8f68-00a4-483f-985b-fe3845112e10",
   "metadata": {},
   "outputs": [
    {
     "data": {
      "text/plain": [
       "-10"
      ]
     },
     "execution_count": 4,
     "metadata": {},
     "output_type": "execute_result"
    }
   ],
   "source": [
    "# test case 2\n",
    "Solution().minimumTotal([[-10]])"
   ]
  },
  {
   "cell_type": "code",
   "execution_count": 5,
   "id": "611dea74-03de-43f3-8499-a1e973cfc32f",
   "metadata": {},
   "outputs": [
    {
     "data": {
      "text/plain": [
       "-1"
      ]
     },
     "execution_count": 5,
     "metadata": {},
     "output_type": "execute_result"
    }
   ],
   "source": [
    "# test case 3\n",
    "Solution().minimumTotal([[-1],[2,3],[1,-1,-3]])"
   ]
  },
  {
   "cell_type": "markdown",
   "id": "3427a297-d1a5-492c-8219-bb47b1a16631",
   "metadata": {},
   "source": [
    "Key Take Away - My first approach was to start from the top of the triangle and work my way down. But this failed to consider all cases and would fail sometimes. Working from the bottom up produced the best solution."
   ]
  },
  {
   "cell_type": "code",
   "execution_count": null,
   "id": "d1288869-2759-41b8-9f78-8c38ecb3ccf7",
   "metadata": {},
   "outputs": [],
   "source": []
  }
 ],
 "metadata": {
  "kernelspec": {
   "display_name": "Python 3 (ipykernel)",
   "language": "python",
   "name": "python3"
  },
  "language_info": {
   "codemirror_mode": {
    "name": "ipython",
    "version": 3
   },
   "file_extension": ".py",
   "mimetype": "text/x-python",
   "name": "python",
   "nbconvert_exporter": "python",
   "pygments_lexer": "ipython3",
   "version": "3.8.8"
  }
 },
 "nbformat": 4,
 "nbformat_minor": 5
}
