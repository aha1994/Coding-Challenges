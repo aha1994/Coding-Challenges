{
 "cells": [
  {
   "cell_type": "markdown",
   "id": "ceb0336e-0785-488e-bc4b-c88520cf1678",
   "metadata": {},
   "source": [
    "Given an array of integers citations where citations[i] is the number of citations a researcher received for their ith paper, return the researcher's h-index.\n",
    "\n",
    "According to the definition of h-index on Wikipedia: The h-index is defined as the maximum value of h such that the given researcher has published at least h papers that have each been cited at least h times."
   ]
  },
  {
   "cell_type": "code",
   "execution_count": 32,
   "id": "e5688996-8b42-4128-9422-e658b99fe72b",
   "metadata": {},
   "outputs": [],
   "source": [
    "class Solution:\n",
    "    def hIndex(self, citations) -> int:\n",
    "        citations = sorted(citations, reverse=True)\n",
    "        for ind, val in enumerate(citations):\n",
    "            if ind >= val:\n",
    "                return ind\n",
    "\n",
    "        return len(citations)"
   ]
  },
  {
   "cell_type": "code",
   "execution_count": 33,
   "id": "c578f720-4218-4200-9edd-757980adf8c7",
   "metadata": {},
   "outputs": [
    {
     "data": {
      "text/plain": [
       "3"
      ]
     },
     "execution_count": 33,
     "metadata": {},
     "output_type": "execute_result"
    }
   ],
   "source": [
    "# test case 1\n",
    "Solution().hIndex([3,0,6,1,5])"
   ]
  },
  {
   "cell_type": "code",
   "execution_count": 34,
   "id": "e4963725-8a1a-424f-9aa8-73030e22f141",
   "metadata": {},
   "outputs": [
    {
     "data": {
      "text/plain": [
       "1"
      ]
     },
     "execution_count": 34,
     "metadata": {},
     "output_type": "execute_result"
    }
   ],
   "source": [
    "# test case 2\n",
    "Solution().hIndex([1,3,1])"
   ]
  },
  {
   "cell_type": "markdown",
   "id": "627ea18a-bcf1-43c2-b50a-12ea5e6c03ce",
   "metadata": {},
   "source": [
    "Key Take Away: Spent along time trying to find a solution without sorting and wasted a bit of time. Go for solution first then try and optimize"
   ]
  },
  {
   "cell_type": "code",
   "execution_count": null,
   "id": "c1b1ec2a-ab05-494b-be75-1384e7c8822b",
   "metadata": {},
   "outputs": [],
   "source": []
  }
 ],
 "metadata": {
  "kernelspec": {
   "display_name": "Python 3 (ipykernel)",
   "language": "python",
   "name": "python3"
  },
  "language_info": {
   "codemirror_mode": {
    "name": "ipython",
    "version": 3
   },
   "file_extension": ".py",
   "mimetype": "text/x-python",
   "name": "python",
   "nbconvert_exporter": "python",
   "pygments_lexer": "ipython3",
   "version": "3.8.8"
  }
 },
 "nbformat": 4,
 "nbformat_minor": 5
}
