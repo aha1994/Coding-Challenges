{
 "cells": [
  {
   "cell_type": "markdown",
   "id": "76795b9b-b07a-4820-928c-b5026e0dd090",
   "metadata": {},
   "source": [
    "You are given a 0-indexed array of integers nums of length n. You are initially positioned at nums[0].\n",
    "\n",
    "Each element nums[i] represents the maximum length of a forward jump from index i. In other words, if you are at nums[i], you can jump to any nums[i + j] where:\n",
    "\n",
    "0 <= j <= nums[i] and i + j < n\n",
    "\n",
    "Return the minimum number of jumps to reach nums[n - 1]. The test cases are generated such that you can reach nums[n - 1]."
   ]
  },
  {
   "cell_type": "code",
   "execution_count": 64,
   "id": "c17a4a6f-16d7-4909-a16b-b0145abde07c",
   "metadata": {},
   "outputs": [],
   "source": [
    "class Solution:\n",
    "    def jump(self, nums) -> int:\n",
    "        jumps = 0\n",
    "        low = 0\n",
    "        high = 0\n",
    "        \n",
    "        # iterate until our window reaches the last index\n",
    "        while high < len(nums)-1:\n",
    "            max_jump = 0\n",
    "\n",
    "            for i in range(low, high + 1):\n",
    "                max_jump = max(max_jump, i + nums[i])\n",
    "\n",
    "            low = high + 1\n",
    "            high = max_jump\n",
    "            jumps += 1\n",
    "        \n",
    "        return jumps"
   ]
  },
  {
   "cell_type": "code",
   "execution_count": 66,
   "id": "2e468370-8226-4268-b20b-bbb3adbb1d59",
   "metadata": {},
   "outputs": [
    {
     "data": {
      "text/plain": [
       "2"
      ]
     },
     "execution_count": 66,
     "metadata": {},
     "output_type": "execute_result"
    }
   ],
   "source": [
    "# test case 1\n",
    "Solution().jump([2,3,1,1,4])"
   ]
  },
  {
   "cell_type": "code",
   "execution_count": 67,
   "id": "b845a11d-3b35-481b-ab3b-4eec1396b2f7",
   "metadata": {},
   "outputs": [
    {
     "data": {
      "text/plain": [
       "2"
      ]
     },
     "execution_count": 67,
     "metadata": {},
     "output_type": "execute_result"
    }
   ],
   "source": [
    "# test case 2\n",
    "Solution().jump([2,3,0,1,4])"
   ]
  },
  {
   "cell_type": "markdown",
   "id": "f287f91d-0ab8-4b56-a64e-18e22cd008c0",
   "metadata": {},
   "source": [
    "Key Take Aways - my first attenmpt to solve this only involved looking at the next jump, rather than two jumps out. This would cause it to fail on some cases. Swapped approach to a sliding window that updates on two jumps out."
   ]
  },
  {
   "cell_type": "code",
   "execution_count": null,
   "id": "974adb31-c771-483e-9812-5980a8c878c2",
   "metadata": {},
   "outputs": [],
   "source": []
  }
 ],
 "metadata": {
  "kernelspec": {
   "display_name": "Python 3 (ipykernel)",
   "language": "python",
   "name": "python3"
  },
  "language_info": {
   "codemirror_mode": {
    "name": "ipython",
    "version": 3
   },
   "file_extension": ".py",
   "mimetype": "text/x-python",
   "name": "python",
   "nbconvert_exporter": "python",
   "pygments_lexer": "ipython3",
   "version": "3.8.8"
  }
 },
 "nbformat": 4,
 "nbformat_minor": 5
}
