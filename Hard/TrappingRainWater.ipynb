{
 "cells": [
  {
   "cell_type": "markdown",
   "id": "303cdcc5-0222-44e1-9e8c-87e28588826b",
   "metadata": {},
   "source": [
    "Given n non-negative integers representing an elevation map where the width of each bar is 1, compute how much water it can trap after raining."
   ]
  },
  {
   "cell_type": "code",
   "execution_count": 6,
   "id": "76ac6a20-ecbd-4ed4-83af-1e5c25a85749",
   "metadata": {},
   "outputs": [],
   "source": [
    "class Solution:\n",
    "    def trap(self, height) -> int:\n",
    "        if len(height) == 0:\n",
    "            return 0\n",
    "        \n",
    "        left, right = 0, len(height) - 1\n",
    "        leftMax, rightMax = height[left], height[right]\n",
    "        water = 0\n",
    "\n",
    "        while left < right:\n",
    "            if leftMax < rightMax:\n",
    "                left += 1\n",
    "                leftMax = max(leftMax, height[left])\n",
    "                water += leftMax - height[left]\n",
    "            else:\n",
    "                right -= 1\n",
    "                rightMax = max(rightMax, height[right])\n",
    "                water += rightMax - height[right]\n",
    "        \n",
    "        return water"
   ]
  },
  {
   "cell_type": "code",
   "execution_count": 7,
   "id": "29988f26-485a-4868-8ca9-94d80176e924",
   "metadata": {},
   "outputs": [
    {
     "data": {
      "text/plain": [
       "6"
      ]
     },
     "execution_count": 7,
     "metadata": {},
     "output_type": "execute_result"
    }
   ],
   "source": [
    "# test case 1\n",
    "Solution().trap([0,1,0,2,1,0,1,3,2,1,2,1])"
   ]
  },
  {
   "cell_type": "code",
   "execution_count": 8,
   "id": "4317e5df-c8bd-415f-963a-995d6b4d767f",
   "metadata": {},
   "outputs": [
    {
     "data": {
      "text/plain": [
       "9"
      ]
     },
     "execution_count": 8,
     "metadata": {},
     "output_type": "execute_result"
    }
   ],
   "source": [
    "# test case 2\n",
    "Solution().trap([4,2,0,3,2,5])"
   ]
  },
  {
   "cell_type": "markdown",
   "id": "739f9dd9-e841-4a6e-bd53-486b1f545814",
   "metadata": {},
   "source": [
    "Key Take away - This one took awhile, my first solution was relatively slow and required iterating over the heights array multiple times. I eventually cracked and found the logic for a better solution and then coded that above."
   ]
  },
  {
   "cell_type": "code",
   "execution_count": null,
   "id": "5ea528de-2152-4aca-b8ea-b098df33a6e6",
   "metadata": {},
   "outputs": [],
   "source": []
  },
  {
   "cell_type": "code",
   "execution_count": null,
   "id": "f2a439a8-fd89-4b7f-bff2-12b6e45b43ec",
   "metadata": {},
   "outputs": [],
   "source": []
  }
 ],
 "metadata": {
  "kernelspec": {
   "display_name": "Python 3 (ipykernel)",
   "language": "python",
   "name": "python3"
  },
  "language_info": {
   "codemirror_mode": {
    "name": "ipython",
    "version": 3
   },
   "file_extension": ".py",
   "mimetype": "text/x-python",
   "name": "python",
   "nbconvert_exporter": "python",
   "pygments_lexer": "ipython3",
   "version": "3.8.8"
  }
 },
 "nbformat": 4,
 "nbformat_minor": 5
}
