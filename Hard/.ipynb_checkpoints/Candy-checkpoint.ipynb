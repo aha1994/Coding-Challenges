{
 "cells": [
  {
   "cell_type": "markdown",
   "id": "b06bfcdf-31eb-4436-948e-abb4ee8c1fd6",
   "metadata": {},
   "source": [
    "There are n children standing in a line. Each child is assigned a rating value given in the integer array ratings.\n",
    "\n",
    "You are giving candies to these children subjected to the following requirements:\n",
    "\n",
    "Each child must have at least one candy.\n",
    "\n",
    "Children with a higher rating get more candies than their neighbors.\n",
    "\n",
    "Return the minimum number of candies you need to have to distribute the candies to the children."
   ]
  },
  {
   "cell_type": "code",
   "execution_count": 13,
   "id": "bc03f2dc-c793-402a-b8c5-ecf570489036",
   "metadata": {},
   "outputs": [],
   "source": [
    "class Solution:\n",
    "    def candy(self, ratings) -> int:\n",
    "        candies = [1] * len(ratings)\n",
    "\n",
    "        # check left neighbor going left to right\n",
    "        for i in range(1, len(ratings)):\n",
    "            if ratings[i] > ratings[i-1]:\n",
    "                candies[i] = candies[i-1] + 1\n",
    "        \n",
    "        # check right neighbor right to left\n",
    "        for i in range(len(ratings) - 2, -1, -1):\n",
    "            if ratings[i] > ratings[i+1]:\n",
    "                candies[i] = max(candies[i+1] + 1, candies[i])\n",
    "\n",
    "        return sum(candies)"
   ]
  },
  {
   "cell_type": "code",
   "execution_count": 14,
   "id": "97d3968d-88ce-4d03-a1d7-8d2e5160b135",
   "metadata": {},
   "outputs": [
    {
     "data": {
      "text/plain": [
       "5"
      ]
     },
     "execution_count": 14,
     "metadata": {},
     "output_type": "execute_result"
    }
   ],
   "source": [
    "# test case 1\n",
    "Solution().candy([1,0,2])"
   ]
  },
  {
   "cell_type": "code",
   "execution_count": 15,
   "id": "f3894f94-f02a-4dd1-8cb8-1c880be07468",
   "metadata": {},
   "outputs": [
    {
     "data": {
      "text/plain": [
       "4"
      ]
     },
     "execution_count": 15,
     "metadata": {},
     "output_type": "execute_result"
    }
   ],
   "source": [
    "# test case 2\n",
    "Solution().candy([1,2,2])"
   ]
  },
  {
   "cell_type": "markdown",
   "id": "04ebba58-ee22-4e65-a48a-272fdb8bdb56",
   "metadata": {},
   "source": [
    "Key take aways - At first I tried finding the minimum, assigning it the lowest value and then working left from the minimum and right from the minimum but this caused issues when there were multiple instances of the minimum. A better solution was to do a left to right and a right to left pass."
   ]
  },
  {
   "cell_type": "code",
   "execution_count": null,
   "id": "0c9290d5-45c2-432d-9e66-2b8f9be3016f",
   "metadata": {},
   "outputs": [],
   "source": []
  }
 ],
 "metadata": {
  "kernelspec": {
   "display_name": "Python 3 (ipykernel)",
   "language": "python",
   "name": "python3"
  },
  "language_info": {
   "codemirror_mode": {
    "name": "ipython",
    "version": 3
   },
   "file_extension": ".py",
   "mimetype": "text/x-python",
   "name": "python",
   "nbconvert_exporter": "python",
   "pygments_lexer": "ipython3",
   "version": "3.8.8"
  }
 },
 "nbformat": 4,
 "nbformat_minor": 5
}
