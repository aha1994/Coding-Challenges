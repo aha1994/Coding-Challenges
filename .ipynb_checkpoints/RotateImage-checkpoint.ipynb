{
 "cells": [
  {
   "cell_type": "markdown",
   "id": "a6338638-f616-4754-bbc4-90c6363fdaa0",
   "metadata": {},
   "source": [
    "You are given an n x n 2D matrix representing an image, rotate the image by 90 degrees (clockwise).\n",
    "\n",
    "You have to rotate the image in-place, which means you have to modify the input 2D matrix directly. DO NOT allocate another 2D matrix and do the rotation."
   ]
  },
  {
   "cell_type": "code",
   "execution_count": 72,
   "id": "75a875fd-d491-4f80-bd98-5a2fa83c6b80",
   "metadata": {},
   "outputs": [],
   "source": [
    "def matrixPrint(arr):\n",
    "    for row in arr:\n",
    "        print(row)"
   ]
  },
  {
   "cell_type": "code",
   "execution_count": 73,
   "id": "eac5ab50-fb92-44d8-993c-12440f04a8e2",
   "metadata": {},
   "outputs": [],
   "source": [
    "class Solution:\n",
    "    def rotate(self, matrix) -> None:\n",
    "        \"\"\"\n",
    "        Do not return anything, modify matrix in-place instead.\n",
    "        \"\"\"\n",
    "        for row in range(len(matrix)):\n",
    "            for col in range(row,len(matrix)):\n",
    "                temp = matrix[row][col]\n",
    "                matrix[row][col] = matrix[col][row]\n",
    "                matrix[col][row] = temp\n",
    "        \n",
    "        for row in matrix:\n",
    "            row.reverse()"
   ]
  },
  {
   "cell_type": "code",
   "execution_count": 74,
   "id": "47615b50-5efc-4f28-b5d4-24c0025405a5",
   "metadata": {},
   "outputs": [
    {
     "name": "stdout",
     "output_type": "stream",
     "text": [
      "[7, 4, 1]\n",
      "[8, 5, 2]\n",
      "[9, 6, 3]\n"
     ]
    }
   ],
   "source": [
    "# test case 1\n",
    "matrix = [[1,2,3],[4,5,6],[7,8,9]]\n",
    "Solution().rotate(matrix)\n",
    "matrixPrint(matrix)"
   ]
  },
  {
   "cell_type": "code",
   "execution_count": 75,
   "id": "ee75cf21-fcb7-4ceb-bd38-c85dcce8f3ba",
   "metadata": {},
   "outputs": [
    {
     "name": "stdout",
     "output_type": "stream",
     "text": [
      "[15, 13, 2, 5]\n",
      "[14, 3, 4, 1]\n",
      "[12, 6, 8, 9]\n",
      "[16, 7, 10, 11]\n"
     ]
    }
   ],
   "source": [
    "# test case 2\n",
    "matrix = [[5,1,9,11],[2,4,8,10],[13,3,6,7],[15,14,12,16]]\n",
    "Solution().rotate(matrix)\n",
    "matrixPrint(matrix)"
   ]
  },
  {
   "cell_type": "markdown",
   "id": "e173be56-9ae8-417f-8edf-7b5f813c343d",
   "metadata": {},
   "source": [
    "Key Take Aways : In place doesnt mean i can't allocate any memory for a temporary storage of a row/column. "
   ]
  },
  {
   "cell_type": "code",
   "execution_count": null,
   "id": "9b5215d5-40a5-4122-8ee5-5fbbbdbb2098",
   "metadata": {},
   "outputs": [],
   "source": []
  }
 ],
 "metadata": {
  "kernelspec": {
   "display_name": "Python 3 (ipykernel)",
   "language": "python",
   "name": "python3"
  },
  "language_info": {
   "codemirror_mode": {
    "name": "ipython",
    "version": 3
   },
   "file_extension": ".py",
   "mimetype": "text/x-python",
   "name": "python",
   "nbconvert_exporter": "python",
   "pygments_lexer": "ipython3",
   "version": "3.8.8"
  }
 },
 "nbformat": 4,
 "nbformat_minor": 5
}
