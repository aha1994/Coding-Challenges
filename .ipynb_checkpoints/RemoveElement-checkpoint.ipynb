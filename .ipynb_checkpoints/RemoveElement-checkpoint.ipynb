{
 "cells": [
  {
   "cell_type": "markdown",
   "id": "a07ac0ba-ef37-4c94-bcab-8d0011b9f314",
   "metadata": {},
   "source": [
    "Given an integer array nums and an integer val, remove all occurrences of val in nums in-place. The order of the elements may be changed. Then return the number of elements in nums which are not equal to val.\n",
    "\n",
    "Consider the number of elements in nums which are not equal to val be k, to get accepted, you need to do the following things:\n",
    "\n",
    "Change the array nums such that the first k elements of nums contain the elements which are not equal to val. The remaining elements of nums are not important as well as the size of nums.\n",
    "Return k."
   ]
  },
  {
   "cell_type": "code",
   "execution_count": 1,
   "id": "5f7529e9-e5f5-40c8-80d7-595f04760a6c",
   "metadata": {},
   "outputs": [],
   "source": [
    "class Solution:\n",
    "    def removeElement(self, nums, val) -> int:\n",
    "        k = 0\n",
    "        for i in range(len(nums)):\n",
    "            if nums[i] != val:\n",
    "                nums[k] = nums[i]\n",
    "                k += 1\n",
    "        return k"
   ]
  },
  {
   "cell_type": "code",
   "execution_count": 3,
   "id": "c60d7082-5dff-48e7-8731-8583e8a93d5d",
   "metadata": {},
   "outputs": [
    {
     "data": {
      "text/plain": [
       "2"
      ]
     },
     "execution_count": 3,
     "metadata": {},
     "output_type": "execute_result"
    }
   ],
   "source": [
    "# test case 1\n",
    "Solution().removeElement([3,2,2,3], 3)"
   ]
  },
  {
   "cell_type": "code",
   "execution_count": 4,
   "id": "97e1518b-09e4-4fea-9620-6014f0d53470",
   "metadata": {},
   "outputs": [
    {
     "data": {
      "text/plain": [
       "5"
      ]
     },
     "execution_count": 4,
     "metadata": {},
     "output_type": "execute_result"
    }
   ],
   "source": [
    "# test case 2\n",
    "Solution().removeElement([0,1,2,2,3,0,4,2], 2)"
   ]
  },
  {
   "cell_type": "markdown",
   "id": "27cfad15-b56b-4613-ad20-2d63fcea54a7",
   "metadata": {},
   "source": [
    "Take aways - using a simple counter and iterating over all values of the original list reassigning the values we want to keep."
   ]
  },
  {
   "cell_type": "code",
   "execution_count": null,
   "id": "e489b1ef-986d-4140-95ff-24fa055bd952",
   "metadata": {},
   "outputs": [],
   "source": []
  }
 ],
 "metadata": {
  "kernelspec": {
   "display_name": "Python 3 (ipykernel)",
   "language": "python",
   "name": "python3"
  },
  "language_info": {
   "codemirror_mode": {
    "name": "ipython",
    "version": 3
   },
   "file_extension": ".py",
   "mimetype": "text/x-python",
   "name": "python",
   "nbconvert_exporter": "python",
   "pygments_lexer": "ipython3",
   "version": "3.8.8"
  }
 },
 "nbformat": 4,
 "nbformat_minor": 5
}
