{
 "cells": [
  {
   "cell_type": "markdown",
   "id": "08ca3fe8-df0d-4f01-8d7c-8534c12829a2",
   "metadata": {},
   "source": [
    "Given an integer array nums, rotate the array to the right by k steps, where k is non-negative."
   ]
  },
  {
   "cell_type": "code",
   "execution_count": 15,
   "id": "169f29f9-a7c1-4fff-9c46-21ebf2974fe7",
   "metadata": {},
   "outputs": [],
   "source": [
    "class Solution:\n",
    "    def rotate(self, nums, k) -> None:\n",
    "        \"\"\"\n",
    "        Do not return anything, modify nums in-place instead.\n",
    "        \"\"\"\n",
    "        for i in range(k):\n",
    "            nums.insert(0, nums.pop(-1))\n",
    "        return nums"
   ]
  },
  {
   "cell_type": "code",
   "execution_count": 18,
   "id": "583e54cf-4f7a-4ea7-b81a-795f0ac24f88",
   "metadata": {},
   "outputs": [
    {
     "data": {
      "text/plain": [
       "[5, 6, 7, 1, 2, 3, 4]"
      ]
     },
     "execution_count": 18,
     "metadata": {},
     "output_type": "execute_result"
    }
   ],
   "source": [
    "# test case 1\n",
    "Solution().rotate(nums=[1,2,3,4,5,6,7], k=3)"
   ]
  },
  {
   "cell_type": "code",
   "execution_count": 19,
   "id": "85ae2997-6705-48db-9a03-c1ffec0c8777",
   "metadata": {},
   "outputs": [
    {
     "data": {
      "text/plain": [
       "[3, 99, -1, -100]"
      ]
     },
     "execution_count": 19,
     "metadata": {},
     "output_type": "execute_result"
    }
   ],
   "source": [
    "# test case 2\n",
    "Solution().rotate(nums=[-1,-100,3,99], k=2)"
   ]
  },
  {
   "cell_type": "markdown",
   "id": "dbd40104-b335-44bd-8e9f-9a88062b464c",
   "metadata": {},
   "source": [
    "Take Away - Again, memory efficient but not fast (relative to other users). Combining the pop and insert list methods to rearrange the array in place while simultaneously keeping the number of elements constant."
   ]
  },
  {
   "cell_type": "code",
   "execution_count": null,
   "id": "cef3f206-cc35-4e26-b88e-88f48afafa2a",
   "metadata": {},
   "outputs": [],
   "source": []
  }
 ],
 "metadata": {
  "kernelspec": {
   "display_name": "Python 3 (ipykernel)",
   "language": "python",
   "name": "python3"
  },
  "language_info": {
   "codemirror_mode": {
    "name": "ipython",
    "version": 3
   },
   "file_extension": ".py",
   "mimetype": "text/x-python",
   "name": "python",
   "nbconvert_exporter": "python",
   "pygments_lexer": "ipython3",
   "version": "3.8.8"
  }
 },
 "nbformat": 4,
 "nbformat_minor": 5
}
