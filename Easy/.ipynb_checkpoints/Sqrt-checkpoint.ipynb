{
 "cells": [
  {
   "cell_type": "markdown",
   "id": "3685284e-a5c6-4cff-aa1e-ef41d551a9c1",
   "metadata": {},
   "source": [
    "Given a non-negative integer x, return the square root of x rounded down to the nearest integer. The returned integer should be non-negative as well.\n",
    "\n",
    "You must not use any built-in exponent function or operator.\n",
    "\n",
    "For example, do not use pow(x, 0.5) in c++ or x ** 0.5 in python."
   ]
  },
  {
   "cell_type": "code",
   "execution_count": 11,
   "id": "bf533032-194b-49eb-8997-7d1b36178841",
   "metadata": {},
   "outputs": [],
   "source": [
    "class Solution:\n",
    "    def mySqrt(self, x: int) -> int:\n",
    "        if x == 0:\n",
    "            return 0\n",
    "\n",
    "        for i in range(x+1):\n",
    "            if i ** 2 == x:\n",
    "                return i\n",
    "            elif i ** 2 > x:\n",
    "                return i - 1"
   ]
  },
  {
   "cell_type": "code",
   "execution_count": 12,
   "id": "bda6152a-3e6e-430c-b002-61a612e0f011",
   "metadata": {},
   "outputs": [
    {
     "data": {
      "text/plain": [
       "3"
      ]
     },
     "execution_count": 12,
     "metadata": {},
     "output_type": "execute_result"
    }
   ],
   "source": [
    "# test case 1\n",
    "Solution().mySqrt(10)"
   ]
  },
  {
   "cell_type": "code",
   "execution_count": 13,
   "id": "a91b7f0c-0c5c-423d-a67e-0bf42f72a6c6",
   "metadata": {},
   "outputs": [
    {
     "data": {
      "text/plain": [
       "10"
      ]
     },
     "execution_count": 13,
     "metadata": {},
     "output_type": "execute_result"
    }
   ],
   "source": [
    "# test case 2\n",
    "Solution().mySqrt(101)"
   ]
  },
  {
   "cell_type": "markdown",
   "id": "5437d4ba-6398-43b6-baf7-b8eca10668d3",
   "metadata": {},
   "source": [
    "Key Take Away: Relatively slow solution, I'm sure there is a way to narrow down the search space and optimize performance, but this works."
   ]
  },
  {
   "cell_type": "code",
   "execution_count": null,
   "id": "270b09cd-b2cd-413b-83de-6ee8e59a6f48",
   "metadata": {},
   "outputs": [],
   "source": []
  }
 ],
 "metadata": {
  "kernelspec": {
   "display_name": "Python 3 (ipykernel)",
   "language": "python",
   "name": "python3"
  },
  "language_info": {
   "codemirror_mode": {
    "name": "ipython",
    "version": 3
   },
   "file_extension": ".py",
   "mimetype": "text/x-python",
   "name": "python",
   "nbconvert_exporter": "python",
   "pygments_lexer": "ipython3",
   "version": "3.8.8"
  }
 },
 "nbformat": 4,
 "nbformat_minor": 5
}
