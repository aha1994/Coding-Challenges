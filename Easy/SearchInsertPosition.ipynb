{
 "cells": [
  {
   "cell_type": "markdown",
   "id": "627181a0-b6fa-49ad-a665-dd9c1771109e",
   "metadata": {},
   "source": [
    "Given a sorted array of distinct integers and a target value, return the index if the target is found. If not, return the index where it would be if it were inserted in order.\n",
    "\n",
    "You must write an algorithm with O(log n) runtime complexity."
   ]
  },
  {
   "cell_type": "code",
   "execution_count": 1,
   "id": "2c73ccff-e453-4707-8c0a-07a3bcaef057",
   "metadata": {},
   "outputs": [],
   "source": [
    "class Solution:\n",
    "    def searchInsert(self, nums, target: int) -> int:\n",
    "        if target > nums[-1]:\n",
    "            return len(nums)\n",
    "        elif target < nums[0]:\n",
    "            return 0\n",
    "        else:\n",
    "            r, l = 0, len(nums) -1\n",
    "\n",
    "            for _ in range(len(nums)):\n",
    "                if nums[r] == target:\n",
    "                    return r\n",
    "\n",
    "                elif nums[l] == target:\n",
    "                    return l\n",
    "\n",
    "                elif nums[r] > target:\n",
    "                    return r\n",
    "                \n",
    "                elif nums[l] < target:\n",
    "                    return l + 1\n",
    "                \n",
    "                r += 1\n",
    "                l -= 1"
   ]
  },
  {
   "cell_type": "code",
   "execution_count": 2,
   "id": "1647fab9-1ecb-478c-8cae-c82a4dd582a1",
   "metadata": {},
   "outputs": [
    {
     "data": {
      "text/plain": [
       "2"
      ]
     },
     "execution_count": 2,
     "metadata": {},
     "output_type": "execute_result"
    }
   ],
   "source": [
    "# test case 1\n",
    "Solution().searchInsert([1,3,5,6], 5)"
   ]
  },
  {
   "cell_type": "code",
   "execution_count": 3,
   "id": "2629d498-17a1-47cb-bfd5-45b8efe723c4",
   "metadata": {},
   "outputs": [
    {
     "data": {
      "text/plain": [
       "1"
      ]
     },
     "execution_count": 3,
     "metadata": {},
     "output_type": "execute_result"
    }
   ],
   "source": [
    "# test case 2\n",
    "Solution().searchInsert([1,3,5,6], 2)"
   ]
  },
  {
   "cell_type": "code",
   "execution_count": 4,
   "id": "a5f6ecb9-db48-44ff-883f-af8d0d664cff",
   "metadata": {},
   "outputs": [
    {
     "data": {
      "text/plain": [
       "4"
      ]
     },
     "execution_count": 4,
     "metadata": {},
     "output_type": "execute_result"
    }
   ],
   "source": [
    "# test case 3\n",
    "Solution().searchInsert([1,3,5,6], 7)"
   ]
  },
  {
   "cell_type": "markdown",
   "id": "16327f17-54ef-44b1-8a44-363b3f00c84c",
   "metadata": {},
   "source": [
    "Key Take Away - Performed well in runtime compared to other users. Main tactic was to assign a left and right pointer and work inwards. "
   ]
  },
  {
   "cell_type": "code",
   "execution_count": null,
   "id": "c35dbc1a-7ff3-42df-ae11-a72877a11770",
   "metadata": {},
   "outputs": [],
   "source": []
  }
 ],
 "metadata": {
  "kernelspec": {
   "display_name": "Python 3 (ipykernel)",
   "language": "python",
   "name": "python3"
  },
  "language_info": {
   "codemirror_mode": {
    "name": "ipython",
    "version": 3
   },
   "file_extension": ".py",
   "mimetype": "text/x-python",
   "name": "python",
   "nbconvert_exporter": "python",
   "pygments_lexer": "ipython3",
   "version": "3.8.8"
  }
 },
 "nbformat": 4,
 "nbformat_minor": 5
}
