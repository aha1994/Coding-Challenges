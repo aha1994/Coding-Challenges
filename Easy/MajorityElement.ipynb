{
 "cells": [
  {
   "cell_type": "markdown",
   "id": "aeaddad2-bcac-4f64-a196-85a3d4807cf9",
   "metadata": {},
   "source": [
    "Given an array nums of size n, return the majority element.\n",
    "\n",
    "The majority element is the element that appears more than ⌊n / 2⌋ times. You may assume that the majority element always exists in the array."
   ]
  },
  {
   "cell_type": "code",
   "execution_count": 1,
   "id": "353d7643-d1d7-4505-881b-0b26b41ff634",
   "metadata": {},
   "outputs": [],
   "source": [
    "class Solution:\n",
    "    def majorityElement(self, nums) -> int:\n",
    "        counter = {}\n",
    "        for i in range(len(nums)):\n",
    "            if nums[i] in counter.keys():\n",
    "                counter[nums[i]] += 1\n",
    "            else:\n",
    "                counter[nums[i]] = 1\n",
    "                \n",
    "        return max(counter, key=counter.get)"
   ]
  },
  {
   "cell_type": "code",
   "execution_count": 2,
   "id": "43235d09-e5c0-41ce-a844-978db5d2307b",
   "metadata": {},
   "outputs": [
    {
     "data": {
      "text/plain": [
       "3"
      ]
     },
     "execution_count": 2,
     "metadata": {},
     "output_type": "execute_result"
    }
   ],
   "source": [
    "# test case 1\n",
    "Solution().majorityElement([3,2,3])"
   ]
  },
  {
   "cell_type": "code",
   "execution_count": 3,
   "id": "3d62f274-5ae0-4885-8a26-b3c2164d1f0d",
   "metadata": {},
   "outputs": [
    {
     "data": {
      "text/plain": [
       "2"
      ]
     },
     "execution_count": 3,
     "metadata": {},
     "output_type": "execute_result"
    }
   ],
   "source": [
    "# test case 2\n",
    "Solution().majorityElement([2,2,1,1,1,2,2])"
   ]
  },
  {
   "cell_type": "markdown",
   "id": "c22135a8-c076-4f3a-9dc5-b94159948a6e",
   "metadata": {},
   "source": [
    "Take Away - useful key parameter in the max function which applies a function to each element in the iterable. Dictionary.get returns the value for a given key.\n",
    "\n",
    "My answer on LeetCode performed well in memory usage but poorly in speed, revisit to try faster method (not creating a dictionary possibly)"
   ]
  },
  {
   "cell_type": "code",
   "execution_count": null,
   "id": "789a48c9-6977-4a54-9702-c967cc1143fd",
   "metadata": {},
   "outputs": [],
   "source": []
  }
 ],
 "metadata": {
  "kernelspec": {
   "display_name": "Python 3 (ipykernel)",
   "language": "python",
   "name": "python3"
  },
  "language_info": {
   "codemirror_mode": {
    "name": "ipython",
    "version": 3
   },
   "file_extension": ".py",
   "mimetype": "text/x-python",
   "name": "python",
   "nbconvert_exporter": "python",
   "pygments_lexer": "ipython3",
   "version": "3.8.8"
  }
 },
 "nbformat": 4,
 "nbformat_minor": 5
}
