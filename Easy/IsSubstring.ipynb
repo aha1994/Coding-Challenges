{
 "cells": [
  {
   "cell_type": "markdown",
   "id": "1f16081f-6de8-4ab5-a986-ec33cb9d009c",
   "metadata": {},
   "source": [
    "Given two strings s and t, return true if s is a subsequence of t, or false otherwise.\n",
    "\n",
    "A subsequence of a string is a new string that is formed from the original string by deleting some (can be none) of the characters without disturbing the relative positions of the remaining characters. (i.e., \"ace\" is a subsequence of \"abcde\" while \"aec\" is not)."
   ]
  },
  {
   "cell_type": "code",
   "execution_count": 19,
   "id": "4aa73a2b-3177-4596-8be1-cdd6a83a491a",
   "metadata": {},
   "outputs": [],
   "source": [
    "class Solution:\n",
    "    def isSubsequence(self, s, t) -> bool:\n",
    "        matches = 0\n",
    "        for char in range(len(t)):\n",
    "            try:\n",
    "                if s[matches] == t[char]:\n",
    "                    matches += 1\n",
    "            except:\n",
    "                pass\n",
    "        return matches == len(s)"
   ]
  },
  {
   "cell_type": "code",
   "execution_count": 20,
   "id": "2f45b65e-b7b0-4467-a7ff-ec37f725bc1e",
   "metadata": {},
   "outputs": [
    {
     "data": {
      "text/plain": [
       "True"
      ]
     },
     "execution_count": 20,
     "metadata": {},
     "output_type": "execute_result"
    }
   ],
   "source": [
    "# test case 1\n",
    "Solution().isSubsequence(\"abc\", \"ahbgdc\")"
   ]
  },
  {
   "cell_type": "code",
   "execution_count": 21,
   "id": "61d1c94c-9da1-44f3-a585-518989f64080",
   "metadata": {},
   "outputs": [
    {
     "data": {
      "text/plain": [
       "False"
      ]
     },
     "execution_count": 21,
     "metadata": {},
     "output_type": "execute_result"
    }
   ],
   "source": [
    "# test case 2\n",
    "Solution().isSubsequence(\"axc\", \"ahbgdc\")"
   ]
  },
  {
   "cell_type": "markdown",
   "id": "aa0ff282-8e1d-4f10-a057-d9be1b74d626",
   "metadata": {},
   "source": [
    "Key Take Aways - My first attempt was to drop every character in the full string not in the substring and then check if the substring was in the full string. However, this failed the case where we need to drop a character in the full string that is in the substring to make a match. To fix this I iterate over the full string trying to match each character in the substring on a row checking for a full match."
   ]
  },
  {
   "cell_type": "code",
   "execution_count": null,
   "id": "66591b39-5c28-4381-a954-e548721d4837",
   "metadata": {},
   "outputs": [],
   "source": []
  }
 ],
 "metadata": {
  "kernelspec": {
   "display_name": "Python 3 (ipykernel)",
   "language": "python",
   "name": "python3"
  },
  "language_info": {
   "codemirror_mode": {
    "name": "ipython",
    "version": 3
   },
   "file_extension": ".py",
   "mimetype": "text/x-python",
   "name": "python",
   "nbconvert_exporter": "python",
   "pygments_lexer": "ipython3",
   "version": "3.8.8"
  }
 },
 "nbformat": 4,
 "nbformat_minor": 5
}
