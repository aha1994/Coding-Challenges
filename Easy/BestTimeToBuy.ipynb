{
 "cells": [
  {
   "cell_type": "markdown",
   "id": "f6b377c6-e5f5-493b-a03a-086d131f759b",
   "metadata": {},
   "source": [
    "You are given an array prices where prices[i] is the price of a given stock on the ith day.\n",
    "\n",
    "You want to maximize your profit by choosing a single day to buy one stock and choosing a different day in the future to sell that stock.\n",
    "\n",
    "Return the maximum profit you can achieve from this transaction. If you cannot achieve any profit, return 0."
   ]
  },
  {
   "cell_type": "code",
   "execution_count": 2,
   "id": "47691520-05b5-4b0f-ac1f-2cdc89a362f7",
   "metadata": {},
   "outputs": [],
   "source": [
    "class Solution:\n",
    "    def maxProfit(self, prices) -> int:\n",
    "        profit = 0\n",
    "        buy, sell = 0, 1\n",
    "        while sell < len(prices):\n",
    "            if prices[sell] - prices[buy] > 0:\n",
    "                p = prices[sell] - prices[buy]\n",
    "                profit = max(profit, p)\n",
    "            else:\n",
    "                buy = sell\n",
    "            sell += 1\n",
    "        return profit"
   ]
  },
  {
   "cell_type": "code",
   "execution_count": 3,
   "id": "3af84edc-746c-4070-af40-b82541ba7f44",
   "metadata": {},
   "outputs": [
    {
     "data": {
      "text/plain": [
       "5"
      ]
     },
     "execution_count": 3,
     "metadata": {},
     "output_type": "execute_result"
    }
   ],
   "source": [
    "# test case 1\n",
    "Solution().maxProfit([7,1,5,3,6,4])"
   ]
  },
  {
   "cell_type": "code",
   "execution_count": 4,
   "id": "fe058901-0b45-403b-b163-b9f0c90655b4",
   "metadata": {},
   "outputs": [
    {
     "data": {
      "text/plain": [
       "0"
      ]
     },
     "execution_count": 4,
     "metadata": {},
     "output_type": "execute_result"
    }
   ],
   "source": [
    "# test case 2\n",
    "Solution().maxProfit([7,6,4,3,1])"
   ]
  },
  {
   "cell_type": "markdown",
   "id": "eb20171a-39f5-488a-957f-b4233ab4dc96",
   "metadata": {},
   "source": [
    "Key Take Aways - 2 point sliding window. Key is to reassign the buy day to the sell day if the current window isnt profitable."
   ]
  },
  {
   "cell_type": "code",
   "execution_count": null,
   "id": "695986ab-2bf9-4fa3-9311-ed08bb17f7a5",
   "metadata": {},
   "outputs": [],
   "source": []
  }
 ],
 "metadata": {
  "kernelspec": {
   "display_name": "Python 3 (ipykernel)",
   "language": "python",
   "name": "python3"
  },
  "language_info": {
   "codemirror_mode": {
    "name": "ipython",
    "version": 3
   },
   "file_extension": ".py",
   "mimetype": "text/x-python",
   "name": "python",
   "nbconvert_exporter": "python",
   "pygments_lexer": "ipython3",
   "version": "3.8.8"
  }
 },
 "nbformat": 4,
 "nbformat_minor": 5
}
