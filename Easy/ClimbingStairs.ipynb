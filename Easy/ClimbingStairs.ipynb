{
 "cells": [
  {
   "cell_type": "markdown",
   "id": "a59d6dd7-28fc-47a3-91c9-cea636da4d70",
   "metadata": {},
   "source": [
    "You are climbing a staircase. It takes n steps to reach the top.\n",
    "\n",
    "Each time you can either climb 1 or 2 steps. In how many distinct ways can you climb to the top?"
   ]
  },
  {
   "cell_type": "code",
   "execution_count": 13,
   "id": "696e5ec7-9c1c-45d8-8592-40d56a3408f3",
   "metadata": {},
   "outputs": [],
   "source": [
    "def climbStairs(number):\n",
    "    base = 1\n",
    "    prev = 1\n",
    "    \n",
    "    for _ in range(number - 1):\n",
    "        base += prev\n",
    "        prev = base - prev\n",
    "        \n",
    "    return base\n",
    "        \n",
    "        \n",
    "        \n",
    "    "
   ]
  },
  {
   "cell_type": "code",
   "execution_count": 17,
   "id": "35f62be9-f4d1-439c-b503-242cdaa25837",
   "metadata": {},
   "outputs": [
    {
     "data": {
      "text/plain": [
       "8"
      ]
     },
     "execution_count": 17,
     "metadata": {},
     "output_type": "execute_result"
    }
   ],
   "source": [
    "# test case 1\n",
    "climbStairs(5)"
   ]
  },
  {
   "cell_type": "code",
   "execution_count": 18,
   "id": "7b8b738e-a37e-43e2-b1e9-1805c42afa29",
   "metadata": {},
   "outputs": [
    {
     "data": {
      "text/plain": [
       "89"
      ]
     },
     "execution_count": 18,
     "metadata": {},
     "output_type": "execute_result"
    }
   ],
   "source": [
    "# test case 1\n",
    "climbStairs(10)"
   ]
  },
  {
   "cell_type": "markdown",
   "id": "c1af0d66-13de-4d5f-b374-5fc3a3fbf247",
   "metadata": {},
   "source": [
    "Key Take Aways - Break problem into sub problems and work my way down the stairs. Found this one relatively hard for an \"easy\" challenge"
   ]
  },
  {
   "cell_type": "code",
   "execution_count": null,
   "id": "6f520627-efa6-4e58-b08e-ce2c90dde6e6",
   "metadata": {},
   "outputs": [],
   "source": []
  }
 ],
 "metadata": {
  "kernelspec": {
   "display_name": "Python 3 (ipykernel)",
   "language": "python",
   "name": "python3"
  },
  "language_info": {
   "codemirror_mode": {
    "name": "ipython",
    "version": 3
   },
   "file_extension": ".py",
   "mimetype": "text/x-python",
   "name": "python",
   "nbconvert_exporter": "python",
   "pygments_lexer": "ipython3",
   "version": "3.8.8"
  }
 },
 "nbformat": 4,
 "nbformat_minor": 5
}
